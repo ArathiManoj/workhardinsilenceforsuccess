{
 "cells": [
  {
   "cell_type": "code",
   "execution_count": 2,
   "id": "7882c079",
   "metadata": {},
   "outputs": [],
   "source": [
    "## creating 2 lists\n",
    "list1=[1,2,3,4]\n",
    "list2=[2,3,4,5]     "
   ]
  },
  {
   "cell_type": "code",
   "execution_count": 3,
   "id": "201ca98f",
   "metadata": {},
   "outputs": [
    {
     "data": {
      "text/plain": [
       "[1, 2, 3, 4, 2, 3, 4, 5]"
      ]
     },
     "execution_count": 3,
     "metadata": {},
     "output_type": "execute_result"
    }
   ],
   "source": [
    "## By adding the values of List1 n list2\n",
    "list1+list2                          # In o/p list 2 will concatenated with list 1\n",
    "\n"
   ]
  },
  {
   "cell_type": "code",
   "execution_count": 4,
   "id": "70deb8c8",
   "metadata": {},
   "outputs": [
    {
     "name": "stdout",
     "output_type": "stream",
     "text": [
      "3\n",
      "5\n",
      "7\n",
      "9\n"
     ]
    }
   ],
   "source": [
    "## in case of finding the sum of their values we use for loop\n",
    "for i,j in zip(list1,list2):\n",
    "        print(i+j)\n",
    "               #on executing this will print the sum omly and will not store the values."
   ]
  },
  {
   "cell_type": "code",
   "execution_count": 8,
   "id": "426cabb2",
   "metadata": {},
   "outputs": [],
   "source": [
    "# inorder to store the values of i+j in a list, create an empty list and use the same for loop and append the values to list3\n",
    "list3=[]\n",
    "for i,j in zip(list1,list2):\n",
    "    list3.append(i+j)"
   ]
  },
  {
   "cell_type": "code",
   "execution_count": 9,
   "id": "4adfcd8a",
   "metadata": {},
   "outputs": [
    {
     "data": {
      "text/plain": [
       "[3, 5, 7, 9]"
      ]
     },
     "execution_count": 9,
     "metadata": {},
     "output_type": "execute_result"
    }
   ],
   "source": [
    "#on executing it will show the sum of both lists stored in list3\n",
    "list3"
   ]
  },
  {
   "cell_type": "code",
   "execution_count": 10,
   "id": "1c613b02",
   "metadata": {},
   "outputs": [],
   "source": [
    "#its a long process and to overcome these difficulties, we use another library in Python called Numpy --numerical python\n"
   ]
  },
  {
   "cell_type": "markdown",
   "id": "854994f5",
   "metadata": {},
   "source": [
    "## Numpy\n"
   ]
  },
  {
   "cell_type": "code",
   "execution_count": 11,
   "id": "43621b97",
   "metadata": {},
   "outputs": [],
   "source": [
    "# import numpy as np   numpy is denoted as np\n",
    "\n",
    "import numpy as np"
   ]
  },
  {
   "cell_type": "code",
   "execution_count": 12,
   "id": "f03dbe90",
   "metadata": {},
   "outputs": [
    {
     "name": "stdout",
     "output_type": "stream",
     "text": [
      "[1 2 3 4]\n"
     ]
    }
   ],
   "source": [
    "#numpy has arrays in it. it can overcome the limitations of list and can compute more operations than list.\n",
    "#so converting list1 into n array\n",
    "\n",
    "print(np.array(list1))                #converted list1 into an array but not stored"
   ]
  },
  {
   "cell_type": "code",
   "execution_count": 14,
   "id": "8ced06ad",
   "metadata": {},
   "outputs": [],
   "source": [
    "## so inorder to store ,it in a variable called arr1\n",
    "\n",
    "arr1=np.array(list1)"
   ]
  },
  {
   "cell_type": "code",
   "execution_count": 15,
   "id": "7e1bc74d",
   "metadata": {},
   "outputs": [
    {
     "data": {
      "text/plain": [
       "array([1, 2, 3, 4])"
      ]
     },
     "execution_count": 15,
     "metadata": {},
     "output_type": "execute_result"
    }
   ],
   "source": [
    "arr1"
   ]
  },
  {
   "cell_type": "code",
   "execution_count": 16,
   "id": "e59a8f54",
   "metadata": {},
   "outputs": [],
   "source": [
    "###Similarly for list2 also\n",
    "\n",
    "arr2=np.array(list2)\n"
   ]
  },
  {
   "cell_type": "code",
   "execution_count": 17,
   "id": "3e59da72",
   "metadata": {},
   "outputs": [
    {
     "data": {
      "text/plain": [
       "array([2, 3, 4, 5])"
      ]
     },
     "execution_count": 17,
     "metadata": {},
     "output_type": "execute_result"
    }
   ],
   "source": [
    "arr2"
   ]
  },
  {
   "cell_type": "code",
   "execution_count": 18,
   "id": "24f763b1",
   "metadata": {},
   "outputs": [],
   "source": [
    "### then going to add these 2 arrays and store itint a new variable sum1 and execute it.\n",
    "\n",
    "sum1= arr1+arr2"
   ]
  },
  {
   "cell_type": "code",
   "execution_count": 19,
   "id": "3da7ca5b",
   "metadata": {},
   "outputs": [
    {
     "data": {
      "text/plain": [
       "array([3, 5, 7, 9])"
      ]
     },
     "execution_count": 19,
     "metadata": {},
     "output_type": "execute_result"
    }
   ],
   "source": [
    "sum1\n"
   ]
  },
  {
   "cell_type": "code",
   "execution_count": 20,
   "id": "cc16ac0c",
   "metadata": {},
   "outputs": [
    {
     "name": "stdout",
     "output_type": "stream",
     "text": [
      "Variable   Type       Data/Info\n",
      "-------------------------------\n",
      "arr1       ndarray    4: 4 elems, type `int32`, 16 bytes\n",
      "arr2       ndarray    4: 4 elems, type `int32`, 16 bytes\n",
      "i          int        4\n",
      "j          int        5\n",
      "list1      list       n=4\n",
      "list2      list       n=4\n",
      "list3      list       n=4\n",
      "np         module     <module 'numpy' from 'C:\\<...>ges\\\\numpy\\\\__init__.py'>\n",
      "sum1       ndarray    4: 4 elems, type `int32`, 16 bytes\n"
     ]
    }
   ],
   "source": [
    "# inorder to know the type of variable used like as in spyder, there is n0 variable explorer in jupyter, so we use %whos\n",
    "\n",
    "%whos"
   ]
  },
  {
   "cell_type": "code",
   "execution_count": 21,
   "id": "48965ba8",
   "metadata": {},
   "outputs": [],
   "source": [
    "## going to create a variable ,data2 which is list of lists\n",
    "\n",
    "data2=[[1,2,3,4],[5,6,7,8]]"
   ]
  },
  {
   "cell_type": "code",
   "execution_count": 22,
   "id": "7036f5fb",
   "metadata": {},
   "outputs": [
    {
     "data": {
      "text/plain": [
       "[[1, 2, 3, 4], [5, 6, 7, 8]]"
      ]
     },
     "execution_count": 22,
     "metadata": {},
     "output_type": "execute_result"
    }
   ],
   "source": [
    "data2"
   ]
  },
  {
   "cell_type": "code",
   "execution_count": 23,
   "id": "5d713810",
   "metadata": {},
   "outputs": [],
   "source": [
    "## now converting data2 into an array\n",
    "\n",
    "arr3=np.array(data2)"
   ]
  },
  {
   "cell_type": "code",
   "execution_count": 25,
   "id": "95add929",
   "metadata": {},
   "outputs": [
    {
     "data": {
      "text/plain": [
       "array([[1, 2, 3, 4],\n",
       "       [5, 6, 7, 8]])"
      ]
     },
     "execution_count": 25,
     "metadata": {},
     "output_type": "execute_result"
    }
   ],
   "source": [
    "arr3"
   ]
  },
  {
   "cell_type": "code",
   "execution_count": null,
   "id": "edab511a",
   "metadata": {},
   "outputs": [],
   "source": [
    "#it is printed as such ,cos our's is a 2D array"
   ]
  },
  {
   "cell_type": "code",
   "execution_count": 26,
   "id": "883900eb",
   "metadata": {},
   "outputs": [
    {
     "data": {
      "text/plain": [
       "2"
      ]
     },
     "execution_count": 26,
     "metadata": {},
     "output_type": "execute_result"
    }
   ],
   "source": [
    "# inorder to check the dimension of array use the keyword as ndim\n",
    "\n",
    "arr3.ndim\n",
    "        #on executing it will show our array3 is a 2D array\n",
    "\n"
   ]
  },
  {
   "cell_type": "code",
   "execution_count": 27,
   "id": "bdcbfe43",
   "metadata": {},
   "outputs": [
    {
     "data": {
      "text/plain": [
       "dtype('int32')"
      ]
     },
     "execution_count": 27,
     "metadata": {},
     "output_type": "execute_result"
    }
   ],
   "source": [
    "# inorder to check the datatype of an array use dtype\n",
    "\n",
    "arr3.dtype"
   ]
  },
  {
   "cell_type": "code",
   "execution_count": 28,
   "id": "8fe8894e",
   "metadata": {},
   "outputs": [
    {
     "data": {
      "text/plain": [
       "(2, 4)"
      ]
     },
     "execution_count": 28,
     "metadata": {},
     "output_type": "execute_result"
    }
   ],
   "source": [
    "#to find the shape of the array use keyword shape\n",
    "\n",
    "arr3.shape"
   ]
  },
  {
   "cell_type": "code",
   "execution_count": 29,
   "id": "0ee12d30",
   "metadata": {},
   "outputs": [],
   "source": [
    "#inorder to change data type of an array we can declare it initially\n",
    "\n",
    "arr4= np.array(data2,dtype=float)"
   ]
  },
  {
   "cell_type": "code",
   "execution_count": 30,
   "id": "398b908a",
   "metadata": {},
   "outputs": [
    {
     "data": {
      "text/plain": [
       "array([[1., 2., 3., 4.],\n",
       "       [5., 6., 7., 8.]])"
      ]
     },
     "execution_count": 30,
     "metadata": {},
     "output_type": "execute_result"
    }
   ],
   "source": [
    "arr4"
   ]
  },
  {
   "cell_type": "code",
   "execution_count": 31,
   "id": "5123e211",
   "metadata": {},
   "outputs": [
    {
     "data": {
      "text/plain": [
       "dtype('float64')"
      ]
     },
     "execution_count": 31,
     "metadata": {},
     "output_type": "execute_result"
    }
   ],
   "source": [
    "arr4.dtype"
   ]
  },
  {
   "cell_type": "code",
   "execution_count": 32,
   "id": "6f23096b",
   "metadata": {},
   "outputs": [],
   "source": [
    "# on creating a new array  like this then it will execute like,\n",
    "\n",
    "arr5=np.array(['1','2','3','5'])"
   ]
  },
  {
   "cell_type": "code",
   "execution_count": 33,
   "id": "dab3bbc9",
   "metadata": {},
   "outputs": [
    {
     "data": {
      "text/plain": [
       "array(['1', '2', '3', '5'], dtype='<U1')"
      ]
     },
     "execution_count": 33,
     "metadata": {},
     "output_type": "execute_result"
    }
   ],
   "source": [
    "arr5        ## it is given as a u1, which is a string datatype or unique. as it is given as\"\"/'' and will be a string dtype always"
   ]
  },
  {
   "cell_type": "code",
   "execution_count": 34,
   "id": "e1de4f21",
   "metadata": {},
   "outputs": [],
   "source": [
    "# It can also be converted as integer dtype by,\n",
    "\n",
    "arr6=np.array(arr5,dtype=int)"
   ]
  },
  {
   "cell_type": "code",
   "execution_count": 35,
   "id": "1eacf440",
   "metadata": {},
   "outputs": [
    {
     "data": {
      "text/plain": [
       "array([1, 2, 3, 5])"
      ]
     },
     "execution_count": 35,
     "metadata": {},
     "output_type": "execute_result"
    }
   ],
   "source": [
    "arr6"
   ]
  },
  {
   "cell_type": "code",
   "execution_count": 36,
   "id": "ec4af5c8",
   "metadata": {},
   "outputs": [
    {
     "data": {
      "text/plain": [
       "dtype('int32')"
      ]
     },
     "execution_count": 36,
     "metadata": {},
     "output_type": "execute_result"
    }
   ],
   "source": [
    "arr6.dtype     #to check it whether it is changed to an integer dtype"
   ]
  },
  {
   "cell_type": "code",
   "execution_count": 37,
   "id": "0b5bd4c3",
   "metadata": {},
   "outputs": [
    {
     "data": {
      "text/plain": [
       "[0, 1, 2, 3, 4, 5, 6]"
      ]
     },
     "execution_count": 37,
     "metadata": {},
     "output_type": "execute_result"
    }
   ],
   "source": [
    "# for creating a list with range function...it will give/print 7 values from 0 to 6\n",
    "\n",
    "list(range(7))"
   ]
  },
  {
   "cell_type": "code",
   "execution_count": 38,
   "id": "20fd504c",
   "metadata": {},
   "outputs": [
    {
     "data": {
      "text/plain": [
       "array([0, 1, 2, 3, 4, 5, 6])"
      ]
     },
     "execution_count": 38,
     "metadata": {},
     "output_type": "execute_result"
    }
   ],
   "source": [
    "# in numpy for arranging/print continuous values called arange like range in list\n",
    "\n",
    "np.arange(7)"
   ]
  },
  {
   "cell_type": "code",
   "execution_count": 39,
   "id": "8d221862",
   "metadata": {},
   "outputs": [],
   "source": [
    "# to show arange function in numpy, will execute array from 4 till 19\n",
    "\n",
    "arr7=np.arange(4,20)"
   ]
  },
  {
   "cell_type": "code",
   "execution_count": 40,
   "id": "19bb2390",
   "metadata": {},
   "outputs": [
    {
     "data": {
      "text/plain": [
       "array([ 4,  5,  6,  7,  8,  9, 10, 11, 12, 13, 14, 15, 16, 17, 18, 19])"
      ]
     },
     "execution_count": 40,
     "metadata": {},
     "output_type": "execute_result"
    }
   ],
   "source": [
    "arr7"
   ]
  },
  {
   "cell_type": "code",
   "execution_count": 41,
   "id": "8c9311ae",
   "metadata": {},
   "outputs": [],
   "source": [
    "# by giving one more value as step in the same arange function ,it will be like here given 2 as step,then incremented by 2 in it\n",
    "## will give 3 invremented by 3 and so on\n",
    "\n",
    "arr8=np.arange(4,20,2)"
   ]
  },
  {
   "cell_type": "code",
   "execution_count": 42,
   "id": "2e5f1f05",
   "metadata": {},
   "outputs": [
    {
     "data": {
      "text/plain": [
       "array([ 4,  6,  8, 10, 12, 14, 16, 18])"
      ]
     },
     "execution_count": 42,
     "metadata": {},
     "output_type": "execute_result"
    }
   ],
   "source": [
    "arr8"
   ]
  },
  {
   "cell_type": "code",
   "execution_count": 43,
   "id": "d4ce3093",
   "metadata": {},
   "outputs": [],
   "source": [
    "# the use of reshape function\n",
    "\n",
    "arr9=arr8.reshape(4,2)\n",
    "\n",
    "     #reshaping arr8 into a 4 by 2 array"
   ]
  },
  {
   "cell_type": "code",
   "execution_count": 44,
   "id": "d0ccfb12",
   "metadata": {},
   "outputs": [
    {
     "data": {
      "text/plain": [
       "array([[ 4,  6],\n",
       "       [ 8, 10],\n",
       "       [12, 14],\n",
       "       [16, 18]])"
      ]
     },
     "execution_count": 44,
     "metadata": {},
     "output_type": "execute_result"
    }
   ],
   "source": [
    "arr9"
   ]
  },
  {
   "cell_type": "code",
   "execution_count": 45,
   "id": "abcf11de",
   "metadata": {},
   "outputs": [],
   "source": [
    "#trying another reshape\n",
    "\n",
    "arr10=arr8.reshape(2,4)           #reshaping into a 2 by 4 array\n"
   ]
  },
  {
   "cell_type": "code",
   "execution_count": 46,
   "id": "260b96f4",
   "metadata": {},
   "outputs": [
    {
     "data": {
      "text/plain": [
       "array([[ 4,  6,  8, 10],\n",
       "       [12, 14, 16, 18]])"
      ]
     },
     "execution_count": 46,
     "metadata": {},
     "output_type": "execute_result"
    }
   ],
   "source": [
    "arr10"
   ]
  },
  {
   "cell_type": "code",
   "execution_count": 47,
   "id": "46258560",
   "metadata": {},
   "outputs": [],
   "source": [
    "## about link space function\n",
    "\n",
    "arr11=np.linspace(1,30,5)"
   ]
  },
  {
   "cell_type": "code",
   "execution_count": 48,
   "id": "d054ff38",
   "metadata": {},
   "outputs": [
    {
     "data": {
      "text/plain": [
       "array([ 1.  ,  8.25, 15.5 , 22.75, 30.  ])"
      ]
     },
     "execution_count": 48,
     "metadata": {},
     "output_type": "execute_result"
    }
   ],
   "source": [
    "arr11           # it will split values at equal intervals here 1 to 30 in 5 intervals"
   ]
  },
  {
   "cell_type": "code",
   "execution_count": 49,
   "id": "1fd6b8c1",
   "metadata": {},
   "outputs": [],
   "source": [
    "#trying same linspace again\n",
    "\n",
    "arr12=np.linspace(1,12,4)"
   ]
  },
  {
   "cell_type": "code",
   "execution_count": 50,
   "id": "67966e5a",
   "metadata": {},
   "outputs": [
    {
     "data": {
      "text/plain": [
       "array([ 1.        ,  4.66666667,  8.33333333, 12.        ])"
      ]
     },
     "execution_count": 50,
     "metadata": {},
     "output_type": "execute_result"
    }
   ],
   "source": [
    "arr12       # Executed from 1 to 12 in 4 intervals"
   ]
  },
  {
   "cell_type": "code",
   "execution_count": null,
   "id": "dfc1c17c",
   "metadata": {},
   "outputs": [],
   "source": []
  }
 ],
 "metadata": {
  "kernelspec": {
   "display_name": "Python 3",
   "language": "python",
   "name": "python3"
  },
  "language_info": {
   "codemirror_mode": {
    "name": "ipython",
    "version": 3
   },
   "file_extension": ".py",
   "mimetype": "text/x-python",
   "name": "python",
   "nbconvert_exporter": "python",
   "pygments_lexer": "ipython3",
   "version": "3.8.8"
  }
 },
 "nbformat": 4,
 "nbformat_minor": 5
}
