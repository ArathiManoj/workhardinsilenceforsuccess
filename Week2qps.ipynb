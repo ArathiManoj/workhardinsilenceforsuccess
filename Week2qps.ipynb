{
 "cells": [
  {
   "cell_type": "code",
   "execution_count": 1,
   "id": "840d4bb9",
   "metadata": {},
   "outputs": [
    {
     "name": "stdout",
     "output_type": "stream",
     "text": [
      "Hello world\n"
     ]
    }
   ],
   "source": [
    "a=(\"Hello world\")\n",
    "print(a)\n",
    "\n"
   ]
  },
  {
   "cell_type": "code",
   "execution_count": 3,
   "id": "c03f1f11",
   "metadata": {},
   "outputs": [
    {
     "name": "stdout",
     "output_type": "stream",
     "text": [
      "The numbers in the list before reverse :  [10, 20, 30, 40, 50, 60]\n",
      "The numbers in the list after reversing [60, 50, 40, 30, 20, 10]\n"
     ]
    }
   ],
   "source": [
    "##  To reverse the items in list\n",
    "\n",
    "list1 = [10,20,30,40,50,60]\n",
    "print(\"The numbers in the list before reverse : \", list1)\n",
    "#print(list1[0:6])\n",
    "list1.reverse()\n",
    "print(\"The numbers in the list after reversing\",list1)"
   ]
  },
  {
   "cell_type": "code",
   "execution_count": 7,
   "id": "eb1344aa",
   "metadata": {},
   "outputs": [
    {
     "name": "stdout",
     "output_type": "stream",
     "text": [
      "The number list contains :  [10, 20, 43, 50, 60, 75, 87, 95, 125, 234]\n",
      "Numbers divisible by 5 are  [10, 20, 50, 60, 75, 95, 125]\n"
     ]
    }
   ],
   "source": [
    "# to print those numbers which are divisible by 5\n",
    "\n",
    "number_list = [10,20,43,50,60,75,87,95,125,234]\n",
    "print(\"The number list contains : \", number_list)\n",
    "#x=5\n",
    "#print(\"Display the numbers that are divisible are \", number_list/x)\n",
    "#print('The numbers are :')\n",
    "\n",
    "result = list(filter(lambda x: (x % 5 == 0), number_list))\n",
    "print(\"Numbers divisible by 5 are \",result)"
   ]
  },
  {
   "cell_type": "code",
   "execution_count": 8,
   "id": "42aa6cb4",
   "metadata": {},
   "outputs": [
    {
     "name": "stdout",
     "output_type": "stream",
     "text": [
      "(11, 22, 33, 44, 55, 66)\n",
      "(11, 22, 33, 44, 55, 66)\n"
     ]
    }
   ],
   "source": [
    "# to copy elements 44 and 55 from the following tuple into a new tuple list\n",
    "\n",
    "tuple1= (11,22,33,44,55,66)\n",
    "print(tuple1)\n",
    "copied_tuple= tuple1\n",
    "print(copied_tuple)"
   ]
  },
  {
   "cell_type": "code",
   "execution_count": 10,
   "id": "7c15d1c9",
   "metadata": {},
   "outputs": [
    {
     "name": "stdout",
     "output_type": "stream",
     "text": [
      "Enter a number: 88\n",
      "The given number is not a prime number\n"
     ]
    }
   ],
   "source": [
    "# to check prime or not\n",
    "\n",
    "n = int(input(\"Enter a number: \"))\n",
    "count = 0\n",
    "for i in range(2,n):\n",
    "     if n % i == 0:\n",
    "         count = count + 1\n",
    "         break\n",
    "if count == 0:\n",
    "     print(\"The given number is a prime number\")\n",
    "else:\n",
    "         print(\"The given number is not a prime number\")\n",
    "         \n",
    "\n",
    "            "
   ]
  },
  {
   "cell_type": "code",
   "execution_count": 12,
   "id": "dbcfafa3",
   "metadata": {},
   "outputs": [
    {
     "name": "stdout",
     "output_type": "stream",
     "text": [
      "12 has occured 3 times \n",
      "22 has occured 2 times \n"
     ]
    }
   ],
   "source": [
    "# To find the frequency of count\n",
    "\n",
    "list1 = [12,12,43,22,12,65,7,5,22]\n",
    "x=12\n",
    "count=0\n",
    "\n",
    "for ele in list1:\n",
    "    if (ele== x):\n",
    "        count =count +1\n",
    "print(\"{} has occured {} times \".format(x, count)) \n",
    "    \n",
    "# Method 2 using count()\n",
    "\n",
    "list1 = [12,12,43,22,12,65,7,5,22]\n",
    "x =22\n",
    "print(\"{} has occured {} times \".format(x,list1.count(x)))"
   ]
  },
  {
   "cell_type": "markdown",
   "id": "3ca615bf",
   "metadata": {},
   "source": [
    "## To reverse the elements in a list using for loop\n"
   ]
  },
  {
   "cell_type": "code",
   "execution_count": 17,
   "id": "45521004",
   "metadata": {},
   "outputs": [
    {
     "name": "stdout",
     "output_type": "stream",
     "text": [
      "[6, 5, 4, 3, 2, 1]\n"
     ]
    }
   ],
   "source": [
    "list=[1,2,3,4,5,6]\n",
    "def rev(l):\n",
    "    new=[]\n",
    "    for i in range(len(l)-1,-1,-1):\n",
    "        new.append(l[i])\n",
    "    return new\n",
    "print(rev(list))\n"
   ]
  },
  {
   "cell_type": "markdown",
   "id": "46c1f836",
   "metadata": {},
   "source": [
    "## To find the largest number among 3 numbers."
   ]
  },
  {
   "cell_type": "code",
   "execution_count": 18,
   "id": "c05b6b24",
   "metadata": {},
   "outputs": [
    {
     "name": "stdout",
     "output_type": "stream",
     "text": [
      "Enter the first number : 56\n",
      "Enter the second number : 45\n",
      "Enter the third number : 78\n",
      "78  is the largest number.\n"
     ]
    }
   ],
   "source": [
    "#n1=50\n",
    "#n2=46\n",
    "#n3=59\n",
    "n1 = int(input(\"Enter the first number : \"))\n",
    "n2 = int(input(\"Enter the second number : \"))\n",
    "n3= int(input(\"Enter the third number : \"))\n",
    "\n",
    "if n1>n2 and n1>n3:\n",
    "      print(n1, \" is the largest number.\")\n",
    "elif n2>n1 and n2>n3:\n",
    "      print(n2,\" is the largest number.\")\n",
    "elif n3>n1 and n3>n2:\n",
    "      print(n3, \" is the largest number.\")\n",
    "else:\n",
    "    print(\"All the numbers are equal.\")\n",
    "            \n",
    "            \n",
    "\n"
   ]
  },
  {
   "cell_type": "markdown",
   "id": "6fa8e52e",
   "metadata": {},
   "source": [
    "## to find power of a number using exponential operator"
   ]
  },
  {
   "cell_type": "code",
   "execution_count": 21,
   "id": "a93db0a4",
   "metadata": {},
   "outputs": [
    {
     "name": "stdout",
     "output_type": "stream",
     "text": [
      "Enter the number : 5\n",
      "25\n"
     ]
    }
   ],
   "source": [
    "n= int(input(\"Enter the number : \"))\n",
    " \n",
    "print(n**2)"
   ]
  },
  {
   "cell_type": "code",
   "execution_count": 22,
   "id": "dd0260d5",
   "metadata": {},
   "outputs": [
    {
     "name": "stdout",
     "output_type": "stream",
     "text": [
      "Enter the number : 2\n",
      "Enter the power : 3\n",
      "The power of the given number is :  8\n"
     ]
    }
   ],
   "source": [
    "n= int(input(\"Enter the number : \"))\n",
    "power= int(input(\"Enter the power : \"))\n",
    "result= n**power\n",
    "print(\"The power of the given number is : \", result)"
   ]
  },
  {
   "cell_type": "markdown",
   "id": "b1b20172",
   "metadata": {},
   "source": [
    "##  that takes a positive integer and returns the sum of the cube of all the positive integers smaller than the specified number."
   ]
  },
  {
   "cell_type": "code",
   "execution_count": 28,
   "id": "313a3606",
   "metadata": {},
   "outputs": [
    {
     "name": "stdout",
     "output_type": "stream",
     "text": [
      "Enter a number: 4\n",
      "The sum of the cubes:  36\n"
     ]
    }
   ],
   "source": [
    "n= int(input(\"Enter a number: \"))\n",
    "def sum_cubes(a):\n",
    "    a= a-1\n",
    "    sum = 0\n",
    "    while a>0:\n",
    "        sum = sum + a**3\n",
    "        a = a- 1\n",
    "    return sum\n",
    "\n",
    "print(\"The sum of the cubes: \",sum_cubes(n))\n",
    "    "
   ]
  },
  {
   "cell_type": "markdown",
   "id": "a44111b0",
   "metadata": {},
   "source": [
    "##  to find the most frequent item in a list of numbers."
   ]
  },
  {
   "cell_type": "code",
   "execution_count": 32,
   "id": "8b0e0c49",
   "metadata": {},
   "outputs": [
    {
     "name": "stdout",
     "output_type": "stream",
     "text": [
      "2 has occured 5 times in this list \n"
     ]
    }
   ],
   "source": [
    "mylist=[10,2,5,12,36,4,2,10,41,2,8,2,12,2]\n",
    "x=2\n",
    "count=0\n",
    "\n",
    "for ele in mylist:\n",
    "    if (ele==x):\n",
    "        count = count + 1\n",
    "print(\"{} has occured {} times in this list \".format(x,count))\n",
    "        \n",
    "       "
   ]
  },
  {
   "cell_type": "code",
   "execution_count": 34,
   "id": "ceaa7353",
   "metadata": {},
   "outputs": [
    {
     "name": "stdout",
     "output_type": "stream",
     "text": [
      "2 has occured 5 times in the list. \n"
     ]
    }
   ],
   "source": [
    "# Method 2\n",
    "mylist= [10,2,5,12,36,4,2,10,41,2,8,2,12,2]\n",
    "x=2\n",
    "print(\"{} has occured {} times in the list. \".format(x,mylist.count(x)))"
   ]
  },
  {
   "cell_type": "code",
   "execution_count": 41,
   "id": "b97c7d95",
   "metadata": {},
   "outputs": [
    {
     "name": "stdout",
     "output_type": "stream",
     "text": [
      "2 has occured 5 times in the list\n"
     ]
    }
   ],
   "source": [
    "# Method 3\n",
    "\n",
    "from collections import Counter\n",
    "mylist= [10,2,5,12,36,4,2,10,41,2,8,2,12,2]\n",
    "x=2\n",
    "dic=Counter(mylist)\n",
    "print(\"{} has occured {} times in the list\".format(x,dic[x]))"
   ]
  },
  {
   "cell_type": "markdown",
   "id": "271d2f60",
   "metadata": {},
   "source": [
    "## To find the factorial of a number"
   ]
  },
  {
   "cell_type": "code",
   "execution_count": 44,
   "id": "96b9cffc",
   "metadata": {},
   "outputs": [
    {
     "name": "stdout",
     "output_type": "stream",
     "text": [
      "The factorial of the given number is :  6\n"
     ]
    }
   ],
   "source": [
    "factorial = 1\n",
    "num = 3\n",
    "\n",
    "if num<0:\n",
    "    print(\"No factorial for negative numbers.\")\n",
    "elif num==0:\n",
    "    print(\"The factorial of 0 is 1.\")\n",
    "else:\n",
    "    for i in range(1,num+1):\n",
    "        factorial = factorial * i\n",
    "    print(\"The factorial of the given number is : \", factorial)    "
   ]
  },
  {
   "cell_type": "code",
   "execution_count": 45,
   "id": "dd666175",
   "metadata": {},
   "outputs": [
    {
     "name": "stdout",
     "output_type": "stream",
     "text": [
      "The factorial of the  5 is 120\n"
     ]
    }
   ],
   "source": [
    "# method 2 using recursive function\n",
    "def factorial(n):\n",
    "    if (n==0 or n==1):\n",
    "        return 1\n",
    "    else:\n",
    "        return n*factorial(n-1)    #5 * 4 * 3 * 2 * 1\n",
    "num = 5\n",
    "print(\"The factorial of the \",num, \"is\",factorial(num))\n",
    "    \n"
   ]
  },
  {
   "cell_type": "code",
   "execution_count": 46,
   "id": "73f2034e",
   "metadata": {},
   "outputs": [
    {
     "name": "stdout",
     "output_type": "stream",
     "text": [
      "The factorial of the  5 is 120\n"
     ]
    }
   ],
   "source": [
    "# Method 3 using ternary approach\n",
    "\n",
    "def factorial(n):\n",
    "    return 1 if (n==1 or n==0) else n*factorial(n-1)   #written with a single line\n",
    "\n",
    "num=5\n",
    "print(\"The factorial of the \",num, \"is\",factorial(num))\n"
   ]
  },
  {
   "cell_type": "code",
   "execution_count": null,
   "id": "f52fc863",
   "metadata": {},
   "outputs": [],
   "source": []
  }
 ],
 "metadata": {
  "kernelspec": {
   "display_name": "Python 3",
   "language": "python",
   "name": "python3"
  },
  "language_info": {
   "codemirror_mode": {
    "name": "ipython",
    "version": 3
   },
   "file_extension": ".py",
   "mimetype": "text/x-python",
   "name": "python",
   "nbconvert_exporter": "python",
   "pygments_lexer": "ipython3",
   "version": "3.8.8"
  }
 },
 "nbformat": 4,
 "nbformat_minor": 5
}
